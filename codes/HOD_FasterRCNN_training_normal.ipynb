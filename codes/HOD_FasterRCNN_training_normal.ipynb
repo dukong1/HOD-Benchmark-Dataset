{
 "cells": [
  {
   "cell_type": "markdown",
   "id": "1e5948de-0607-4ee3-b86c-95ae6ea7752c",
   "metadata": {},
   "source": [
    "Code Author: Ha Eungyeom (eungyeom_ha@yonsei.ac.kr)                \n",
    " This code is developed for training and evaluating a Faster-RCNN model on the HOD datasetCases"
   ]
  },
  {
   "cell_type": "markdown",
   "id": "cb3bf833-5d56-41f3-9cd8-3e841c154c3a",
   "metadata": {},
   "source": [
    "### Training Code - Normal Cases\n",
    "#### Paper Section: 3.1 Environment Setup"
   ]
  },
  {
   "cell_type": "code",
   "execution_count": null,
   "id": "d3685a4b-37d9-4788-b9d2-f73c375ea59d",
   "metadata": {},
   "outputs": [],
   "source": [
    "# Displaying the current working directory\n",
    "!pwd"
   ]
  },
  {
   "cell_type": "code",
   "execution_count": null,
   "id": "33108224-7269-4598-843e-ad5be46c5b15",
   "metadata": {},
   "outputs": [],
   "source": [
    "# Changing to the parent directory\n",
    "cd .."
   ]
  },
  {
   "cell_type": "code",
   "execution_count": null,
   "id": "3b7488f2-391c-4a8a-9184-633bc6c27ce1",
   "metadata": {
    "scrolled": true
   },
   "outputs": [],
   "source": [
    "# Installing necessary library for file downloading\n",
    "!pip install down\n",
    "\n",
    "# Downloading the dataset using Google Drive link\n",
    "!gdown --id 1NEQWK062dMREwDSbHOPPMx-99iUVebrN -O faster_rcnn_dataset.zip\n",
    "\n",
    "# Creating a directory for the dataset and extracting the dataset there\n",
    "!mkdir faster_rcnn_data\n",
    "!unzip faster_rcnn_dataset.zip -d faster_rcnn_data"
   ]
  },
  {
   "cell_type": "code",
   "execution_count": null,
   "id": "62672e02-f560-4529-aaa1-84bbcb730d6f",
   "metadata": {},
   "outputs": [],
   "source": [
    "!pwd"
   ]
  },
  {
   "cell_type": "code",
   "execution_count": null,
   "id": "a78e51fc-90c4-4681-a934-80e9488787d8",
   "metadata": {},
   "outputs": [],
   "source": [
    "# Setting up the name for normal case training\n",
    "name = '/rcnn_normal/'"
   ]
  },
  {
   "cell_type": "code",
   "execution_count": null,
   "id": "7b364322-86ef-4bec-b101-deaaa38cae7e",
   "metadata": {
    "scrolled": true
   },
   "outputs": [],
   "source": [
    "# Importing required libraries\n",
    "import os\n",
    "import xml.etree.ElementTree as ET\n",
    "\n",
    "# Specifying the directory path for annotations\n",
    "directory_path = './faster_rcnn_data' + name  + 'Annotations/'"
   ]
  },
  {
   "cell_type": "markdown",
   "id": "fcc7defe-d44e-42f3-9010-edb56a781957",
   "metadata": {},
   "source": [
    "### Function to remove spaces from tags in XML files\n",
    "#### Paper Section: 3.2 Data Preprocessing"
   ]
  },
  {
   "cell_type": "code",
   "execution_count": null,
   "id": "3765d06d-6e3b-4297-a624-306389297a68",
   "metadata": {
    "scrolled": true
   },
   "outputs": [],
   "source": [
    "def remove_spaces_from_tags(dir_path):\n",
    "    for filename in os.listdir(dir_path):\n",
    "        if filename.lower().endswith('.xml'):\n",
    "            filepath = os.path.join(dir_path, filename)\n",
    "            \n",
    "            # Parsing the XML file\n",
    "            tree = ET.parse(filepath)\n",
    "            root = tree.getroot()\n",
    "\n",
    "            # Removing spaces from <filename> and <path> tags\n",
    "            for tag in ['filename', 'path']:\n",
    "                element = root.find(tag)\n",
    "                if element is not None:\n",
    "                    # 공백 제거\n",
    "                    element.text = element.text.replace(\" \", \"\")\n",
    "            \n",
    "            # Saving the changes back to the XML file\n",
    "            tree.write(filepath)\n",
    "            print(f\"Changed file: {filename}\")\n",
    "\n",
    "# Executing the function to preprocess XML annotations\n",
    "remove_spaces_from_tags(directory_path)"
   ]
  },
  {
   "cell_type": "markdown",
   "id": "5fe01ff2-8d1b-40ed-8211-244eab9e3f4f",
   "metadata": {},
   "source": [
    "### Installation of MMDetection\n",
    "#### Paper Section: 3.3 Framework Preparation\n",
    "Detailed steps and explanations for setting up MMDetection, including addressing version compatibilities.\n",
    ".\r\n"
   ]
  },
  {
   "cell_type": "code",
   "execution_count": null,
   "id": "ae54da53-4ce8-4e49-872c-0a51eedc72d7",
   "metadata": {},
   "outputs": [],
   "source": [
    "# Checking the version of PyTorch\n",
    "import torch\n",
    "print(torch.__version__)"
   ]
  },
  {
   "cell_type": "code",
   "execution_count": null,
   "id": "b7a3fead-0da0-4d6b-a6e5-7ea8114f4de8",
   "metadata": {},
   "outputs": [],
   "source": [
    "# Downgrading PyTorch to 1.13.0+cu116 for compatibility with MMDetection\n",
    "!pip install torch==1.13.0+cu116 torchvision==0.14.0+cu116 --extra-index-url https://download.pytorch.org/whl/cu116"
   ]
  },
  {
   "cell_type": "code",
   "execution_count": null,
   "id": "733ded82-3673-46b7-9ce6-6709f19c30c8",
   "metadata": {},
   "outputs": [],
   "source": [
    "# Installing mmcv-full\n",
    "!pip install mmcv-full -f https://download.openmmlab.com/mmcv/dist/cu116/torch1.13/index.html"
   ]
  },
  {
   "cell_type": "code",
   "execution_count": null,
   "id": "08986de0-5d22-4272-8087-55121ab2d58c",
   "metadata": {
    "scrolled": true
   },
   "outputs": [],
   "source": [
    "# Cloning and installing MMDetection (version 2.x)\n",
    "!git clone --branch 2.x https://github.com/open-mmlab/mmdetection.git\n",
    "!cd mmdetection; python setup.py install"
   ]
  },
  {
   "cell_type": "code",
   "execution_count": null,
   "id": "3512262d-a7ec-42dd-981a-194cd3bf02e3",
   "metadata": {},
   "outputs": [],
   "source": [
    "from mmdet.apis import init_detector, inference_detector\n",
    "import mmcv"
   ]
  },
  {
   "cell_type": "markdown",
   "id": "88826ce4-b4c7-4436-aadf-641ce3bf7b8c",
   "metadata": {},
   "source": [
    "### Conversion of PASCAL VOC dataset to MS-COCO format\n",
    "#### Paper Section: 3.4 Dataset Conversion\n",
    "Steps and code snippets for converting the dataset from PASCAL VOC format to MS-COCO format using a utility..\r\n"
   ]
  },
  {
   "cell_type": "code",
   "execution_count": null,
   "id": "8e41b5af-98e3-4290-a355-ce176c9238c2",
   "metadata": {},
   "outputs": [],
   "source": [
    "!pwd"
   ]
  },
  {
   "cell_type": "code",
   "execution_count": null,
   "id": "dd92d5c0-afb1-4214-b98b-ea125fe13ec7",
   "metadata": {},
   "outputs": [],
   "source": [
    "# Cloning the voc2coco utility\n",
    "!git clone https://github.com/yukkyo/voc2coco.git # voc -> cooo"
   ]
  },
  {
   "cell_type": "code",
   "execution_count": null,
   "id": "3070d155-39c7-48d1-9e25-c3ade51e58d0",
   "metadata": {},
   "outputs": [],
   "source": [
    "!pwd"
   ]
  },
  {
   "cell_type": "code",
   "execution_count": null,
   "id": "00c63799-b267-45b4-bd9e-aaffe6024193",
   "metadata": {},
   "outputs": [],
   "source": [
    "!cat ./faster_rcnn_data/labels.txt"
   ]
  },
  {
   "cell_type": "code",
   "execution_count": null,
   "id": "bf57605f-a935-4772-866a-e632a2af179f",
   "metadata": {},
   "outputs": [],
   "source": [
    "cd ./voc2coco/"
   ]
  },
  {
   "cell_type": "code",
   "execution_count": null,
   "id": "0c660ff8-7b4d-4158-8042-ba6eccc0e61e",
   "metadata": {},
   "outputs": [],
   "source": [
    "# Converting VOC to COCO format for train, validation, and test sets\n",
    "!python voc2coco.py --ann_dir ../faster_rcnn_data/rcnn_normal/Annotations \\\n",
    "--ann_ids ../faster_rcnn_data/rcnn_normal/ImageSets/Main/train.txt \\\n",
    "--labels ../faster_rcnn_data/labels.txt \\\n",
    "--output ../faster_rcnn_data/rcnn_normal/train.json \\\n",
    "--ext xml\n",
    "\n",
    "!python voc2coco.py --ann_dir ../faster_rcnn_data/rcnn_normal/Annotations \\\n",
    "--ann_ids ../faster_rcnn_data/rcnn_normal/ImageSets/Main/validation.txt \\\n",
    "--labels ../faster_rcnn_data/labels.txt \\\n",
    "--output ../faster_rcnn_data/rcnn_normal/val.json \\\n",
    "--ext xml\n",
    "\n",
    "!python voc2coco.py --ann_dir ../faster_rcnn_data/rcnn_normal/Annotations \\\n",
    "--ann_ids ../faster_rcnn_data/rcnn_normal/ImageSets/Main/test.txt \\\n",
    "--labels ../faster_rcnn_data/labels.txt \\\n",
    "--output ../faster_rcnn_data/rcnn_normal/test.json \\\n",
    "--ext xml"
   ]
  },
  {
   "cell_type": "code",
   "execution_count": null,
   "id": "18d99676-6974-4324-a636-681709b19846",
   "metadata": {
    "scrolled": true
   },
   "outputs": [],
   "source": [
    "!cat ../faster_rcnn_data/rcnn_normal/train.json"
   ]
  },
  {
   "cell_type": "code",
   "execution_count": null,
   "id": "1df75e9d-060e-4915-9f79-b1d3e01086e9",
   "metadata": {},
   "outputs": [],
   "source": [
    "!pwd"
   ]
  },
  {
   "cell_type": "code",
   "execution_count": null,
   "id": "1330fb2d-ece4-40c0-90f4-c65d50c8c683",
   "metadata": {},
   "outputs": [],
   "source": [
    "cd .."
   ]
  },
  {
   "cell_type": "markdown",
   "id": "b73fc2b2-df78-4fc6-8b57-184720980d3c",
   "metadata": {},
   "source": [
    "### Configuration Setup and Model Training\n",
    "#### Paper Section: 4.1 Training Procedure\n",
    "Detailed code snippets for configuring the training setup, defining the custom dataset class, and initiating the training process."
   ]
  },
  {
   "cell_type": "code",
   "execution_count": null,
   "id": "6ff417b8-3d32-43b1-9a91-84ba0f2831aa",
   "metadata": {},
   "outputs": [],
   "source": [
    "# Configuring the dataset, model, and training parameters\n",
    "from mmcv import Config\n",
    "from mmdet.datasets.builder import DATASETS\n",
    "from mmdet.datasets.coco import CocoDataset\n",
    "from mmdet.apis import set_random_seed, train_detector\n",
    "from mmdet.models import build_detector\n",
    "\n",
    "# Defining the custom dataset class\n",
    "@DATASETS.register_module(force=True)\n",
    "class HOD(CocoDataset):\n",
    "    CLASSES = ('alcohol', 'insulting_gesture', 'blood', 'cigarette', 'gun', 'knife') "
   ]
  },
  {
   "cell_type": "code",
   "execution_count": null,
   "id": "10eda640-d9c1-448f-8caa-6e9b9b4d3eb8",
   "metadata": {},
   "outputs": [],
   "source": [
    "# Load the configuration file\n",
    "config_file = './mmdetection/configs/faster_rcnn/faster_rcnn_r50_fpn_1x_coco.py'\n",
    "checkpoint_file = './mmdetection/checkpoints/faster_rcnn_r50_fpn_1x_coco_20200130-047c8118.pth'"
   ]
  },
  {
   "cell_type": "code",
   "execution_count": null,
   "id": "7696ac6d-fbb5-488e-b980-f54cfd339426",
   "metadata": {},
   "outputs": [],
   "source": [
    "!pwd"
   ]
  },
  {
   "cell_type": "code",
   "execution_count": null,
   "id": "f284aa3d-f53e-4ad0-bcb2-17d08018d09e",
   "metadata": {},
   "outputs": [],
   "source": [
    "!cd ./mmdetection; mkdir checkpoints\n",
    "!wget -O ./mmdetection/checkpoints/faster_rcnn_r50_fpn_1x_coco_20200130-047c8118.pth http://download.openmmlab.com/mmdetection/v2.0/faster_rcnn/faster_rcnn_r50_fpn_1x_coco/faster_rcnn_r50_fpn_1x_coco_20200130-047c8118.pth"
   ]
  },
  {
   "cell_type": "code",
   "execution_count": null,
   "id": "056578e3-fbc5-495b-b145-2c2e6c64cbd8",
   "metadata": {},
   "outputs": [],
   "source": [
    "!ls -lia ./mmdetection/checkpoints"
   ]
  },
  {
   "cell_type": "code",
   "execution_count": null,
   "id": "ed8bd5aa-6f36-4416-886c-f00c707c2987",
   "metadata": {
    "scrolled": true
   },
   "outputs": [],
   "source": [
    "cfg = Config.fromfile(config_file)\n",
    "print(cfg.pretty_text)"
   ]
  },
  {
   "cell_type": "code",
   "execution_count": null,
   "id": "488da3ed-dc45-4cb0-b6d1-61d93f9166b1",
   "metadata": {},
   "outputs": [],
   "source": [
    "name"
   ]
  },
  {
   "cell_type": "code",
   "execution_count": null,
   "id": "eb2d810c-3514-4cf5-b3d6-16dc8590bcea",
   "metadata": {},
   "outputs": [],
   "source": [
    "!pwd"
   ]
  },
  {
   "cell_type": "code",
   "execution_count": null,
   "id": "7b037b43-d982-4ad0-ac76-ba06909e936c",
   "metadata": {},
   "outputs": [],
   "source": [
    "from mmcv.runner import HOOKS, Hook\n",
    "\n",
    "# Adding the SaveBestCheckpointHook class\n",
    "# This class is designed to save the best model checkpoint based on a specified metric (e.g., bbox_mAP).\n",
    "@HOOKS.register_module()\n",
    "class SaveBestCheckpointHook(Hook):\n",
    "    def __init__(self, out_dir, metric='bbox_mAP', save_optimizer=True):\n",
    "        self.out_dir = out_dir  # directory where the best checkpoint will be saved\n",
    "        self.metric = metric  # metric name to monitor and determine the best model\n",
    "        self.save_optimizer = save_optimizer  # flag to decide whether to save optimizer state or not\n",
    "        self.best_score = 0.0  # initialize the best score to 0\n",
    "\n",
    "    def after_train_epoch(self, runner):\n",
    "        # This method is called after each training epoch\n",
    "        # It checks if the current epoch score is better than the best recorded so far and saves the model checkpoint if so\n",
    "        if not self.every_n_epochs(runner, 1):\n",
    "            return\n",
    "        from mmcv.runner import save_checkpoint\n",
    "        if runner.log_buffer.output.get(self.metric, 0) > self.best_score:\n",
    "            self.best_score = runner.log_buffer.output[self.metric]\n",
    "            save_checkpoint(runner.model, self.out_dir, optimizer=self.save_optimizer)\n",
    "\n",
    "# Updating environment parameters for the dataset\n",
    "cfg.dataset_type = 'HOD'  # Dataset type is set to 'HOD'\n",
    "cfg.data_root = './faster_rcnn_data' + name  # Root directory path for data\n",
    "\n",
    "# Updating type, data_root, ann_file, img_prefix environment parameters for train, val, and test datasets\n",
    "cfg.data.train.type = 'HOD'\n",
    "cfg.data.train.data_root = './faster_rcnn_data'+ name\n",
    "cfg.data.train.ann_file = 'train.json'\n",
    "cfg.data.train.img_prefix = 'JPEGImages'\n",
    "\n",
    "cfg.data.val.type = 'HOD'\n",
    "cfg.data.val.data_root = './faster_rcnn_data' + name\n",
    "cfg.data.val.ann_file = 'val.json'\n",
    "cfg.data.val.img_prefix = 'JPEGImages'\n",
    "\n",
    "cfg.data.test.type = 'HOD'\n",
    "cfg.data.test.data_root = './faster_rcnn_data' + name\n",
    "cfg.data.test.ann_file = 'test.json'\n",
    "cfg.data.test.img_prefix = 'JPEGImages'\n",
    "\n",
    "# Updating the number of classes\n",
    "cfg.model.roi_head.bbox_head.num_classes = 6  # Number of classes is set to 6\n",
    "\n",
    "# Loading the pretrained model\n",
    "cfg.load_from = './mmdetection/checkpoints/faster_rcnn_r50_fpn_1x_coco_20200130-047c8118.pth'  # Path to the pretrained model\n",
    "\n",
    "# Setting the directory to save the training weight files\n",
    "cfg.work_dir = './tutorial_exps_normal'  # Directory to save training logs and weight files\n",
    "\n",
    "# Updating the learning rate environment parameter\n",
    "cfg.optimizer.lr = 0.02 / 8  # Learning rate is set to 0.02 / 8\n",
    "cfg.lr_config.warmup = None  # Warmup is disabled\n",
    "cfg.log_config.interval = 2000  # Logging interval is set to 2000\n",
    "\n",
    "# For CocoDataset, the metric should be set to 'bbox' (not mAP). Setting it to 'bbox' calculates mAP over a range of IoU thresholds (0.5 to 0.95)\n",
    "cfg.evaluation.metric = 'bbox'\n",
    "cfg.evaluation.classwise = True  # Additional setting for label-wise mAP\n",
    "\n",
    "cfg.evaluation.interval = 2000  # Evaluation interval is set to 2000\n",
    "cfg.checkpoint_config.interval = 5  # Checkpoint saving interval is set to 5\n",
    "\n",
    "# Adding a setting to save the best performing model\n",
    "# Adding a custom hook to the cfg setting\n",
    "cfg.custom_hooks = [dict(type='SaveBestCheckpointHook', out_dir=cfg.work_dir, metric='bbox_mAP', save_optimizer=True)]\n",
    "\n",
    "# If the config is loaded twice, the lr_config's policy disappears. So, it's set here again.\n",
    "cfg.lr_config.policy='step'  # Setting the learning rate policy to 'step'\n",
    "\n",
    "# Setting seed for reproducibility\n",
    "cfg.seed = 0  # Seed is set to 0\n",
    "set_random_seed(0, deterministic=False)  # Setting random seed with deterministic set to False\n",
    "cfg.gpu_ids = range(1)  # Setting GPU IDs\n",
    "\n",
    "# Changing the evaluation metric since a customized dataset is used\n",
    "cfg.device = 'cuda'  # Setting device to cuda\n",
    "\n",
    "cfg.runner.max_epochs = 150  # Setting max epochs to 150for training\n"
   ]
  },
  {
   "cell_type": "code",
   "execution_count": null,
   "id": "ec4cbb88-6cf5-4ac9-aa43-1e5d4821ab30",
   "metadata": {
    "scrolled": true
   },
   "outputs": [],
   "source": [
    "print(cfg.pretty_text)"
   ]
  },
  {
   "cell_type": "code",
   "execution_count": null,
   "id": "376b6c2a-844e-4758-ba30-9aa05ca34caf",
   "metadata": {},
   "outputs": [],
   "source": [
    "from mmdet.datasets import build_dataset\n",
    "from mmdet.models import build_detector\n",
    "from mmdet.apis import train_detector\n",
    "\n",
    "# Create a dataset for training\n",
    "datasets = [build_dataset(cfg.data.train)]"
   ]
  },
  {
   "cell_type": "code",
   "execution_count": null,
   "id": "6b157745-58c5-450b-b688-2b850fc04348",
   "metadata": {},
   "outputs": [],
   "source": [
    "# Print the first dataset to check its content\n",
    "print(datasets[0])\n",
    "\n",
    "# Using datasets[0].__dict__ to view all the self variables' keys and values.\n",
    "datasets[0].__dict__.keys()"
   ]
  },
  {
   "cell_type": "code",
   "execution_count": null,
   "id": "1fbb6f7f-50e1-472e-ba7f-dec9b95c584c",
   "metadata": {
    "scrolled": true
   },
   "outputs": [],
   "source": [
    "datasets[0].data_infos"
   ]
  },
  {
   "cell_type": "code",
   "execution_count": null,
   "id": "d9a85df4-136f-47f0-a8d3-8d962a00b3e2",
   "metadata": {
    "id": "ShA8_UU7qpUl",
    "scrolled": true
   },
   "outputs": [],
   "source": [
    "datasets[0].pipeline"
   ]
  },
  {
   "cell_type": "code",
   "execution_count": null,
   "id": "995af9cc-934c-46a2-9980-26cffc96e52a",
   "metadata": {
    "id": "52a6vbgr1UuX"
   },
   "outputs": [],
   "source": [
    "model = build_detector(cfg.model, train_cfg=cfg.get('train_cfg'), test_cfg=cfg.get('test_cfg'))\n",
    "model.CLASSES = datasets[0].CLASSES\n",
    "print(model.CLASSES)"
   ]
  },
  {
   "cell_type": "code",
   "execution_count": null,
   "id": "59d50060-55ae-4627-864a-098a6393452e",
   "metadata": {
    "id": "uGED9DOY4ZTY",
    "scrolled": true
   },
   "outputs": [],
   "source": [
    "import os.path as osp\n",
    "mmcv.mkdir_or_exist(osp.abspath(cfg.work_dir))\n",
    "train_detector(model, datasets, cfg, distributed=False, validate=True) "
   ]
  },
  {
   "cell_type": "code",
   "execution_count": null,
   "id": "8c4ab4fd-493c-4ebf-9a0a-533b6974b279",
   "metadata": {},
   "outputs": [],
   "source": [
    "!pwd"
   ]
  },
  {
   "cell_type": "markdown",
   "id": "46d5f37d-17fe-42b8-b1ee-f88c6bfd33d4",
   "metadata": {},
   "source": [
    "### Inference and Result Visualization\n",
    "#### Paper Section: 4.3 Testing Procedure"
   ]
  },
  {
   "cell_type": "code",
   "execution_count": null,
   "id": "89711ee8-212b-4bc7-a5d1-4013a913b2c1",
   "metadata": {
    "id": "PMQghxYE4ZaD"
   },
   "outputs": [],
   "source": [
    "import cv2\n",
    "from mmdet.apis import inference_detector, init_detector, show_result_pyplot\n",
    "\n",
    "# Loading a sample image for inference\n",
    "img = cv2.imread('./faster_rcnn_data/rcnn_normal/JPEGImages/img_hod_001544.jpg')\n",
    "\n",
    "# Setting the configuration for the model\n",
    "model.cfg = cfg\n",
    "\n",
    "# Performing inference on the sample image\n",
    "result = inference_detector(model, img)\n",
    "\n",
    "# Visualizing the inference results\n",
    "show_result_pyplot(model, img, result)"
   ]
  },
  {
   "cell_type": "markdown",
   "id": "cbc10845-df5b-447f-bd27-d54b67dca086",
   "metadata": {},
   "source": [
    "#### This marks the end of code snippet for training a Faster-RCNN model on the HOD dataset for normal cases."
   ]
  }
 ],
 "metadata": {
  "kernelspec": {
   "display_name": "egha-mm",
   "language": "python",
   "name": "egha-mm"
  },
  "language_info": {
   "codemirror_mode": {
    "name": "ipython",
    "version": 3
   },
   "file_extension": ".py",
   "mimetype": "text/x-python",
   "name": "python",
   "nbconvert_exporter": "python",
   "pygments_lexer": "ipython3",
   "version": "3.8.18"
  }
 },
 "nbformat": 4,
 "nbformat_minor": 5
}
