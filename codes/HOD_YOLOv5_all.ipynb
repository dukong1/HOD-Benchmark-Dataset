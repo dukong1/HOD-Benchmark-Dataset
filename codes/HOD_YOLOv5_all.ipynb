{
 "cells": [
  {
   "cell_type": "markdown",
   "id": "75d5f327-aebb-44d3-a274-eee327227a38",
   "metadata": {},
   "source": [
    "Code Author: Ha Eungyeom (eungyeom_ha@yonsei.ac.kr)        \n",
    "This code is developed for training and evaluating a YOLOv5 model on the HOD dataset. [GitHub Repository](https://github.com/poori-nuna/HOD-Benchmark-Dataset)\n",
    "\n",
    "------"
   ]
  },
  {
   "cell_type": "markdown",
   "id": "3a1f0565-68d9-475f-9f8e-b3314b0451d4",
   "metadata": {},
   "source": [
    "### Importing Necessary Libraries and Preparing Environment\n",
    "#### Paper Section: 3.1 Environment Setup\n",
    "This section sets up the environment by installing required libraries and downloading necessary files."
   ]
  },
  {
   "cell_type": "code",
   "execution_count": null,
   "id": "2cba8137-98d5-4684-a4d8-5baef3343570",
   "metadata": {},
   "outputs": [],
   "source": [
    "!pip install gdown\n",
    "\n",
    "!gdown --id 1SPqvYv0azxPLS-UfFDEyD3F2RokvXmqQ -O data.zip\n",
    "!mkdir data\n",
    "!unzip data.zip -d data"
   ]
  },
  {
   "cell_type": "code",
   "execution_count": null,
   "id": "1fde30c6-e644-4490-8a89-fc4a74478ba2",
   "metadata": {},
   "outputs": [],
   "source": [
    "import os\n",
    "os.environ[\"CUDA_VISIBLE_DEVICES\"] = \"2\"\n",
    "\n",
    "if not os.path.exists(\"yolov5\"):\n",
    "    os.system(\"git clone https://github.com/poori-nuna/HOD_yolov5\")\n",
    "\n",
    "os.chdir(\"HOD_yolov5\")    \n",
    "os.system(\"pip install -qr requirements.txt\")"
   ]
  },
  {
   "cell_type": "markdown",
   "id": "6f90d329-189d-49b3-b3c0-aaa375760205",
   "metadata": {
    "tags": []
   },
   "source": [
    "### Training on all Cases (Normal Cases +  Hard Cases)\n",
    "#### Paper Section: 4.1 Training Procedure\n",
    "This section initiates the training process on the all dataset."
   ]
  },
  {
   "cell_type": "code",
   "execution_count": null,
   "id": "02d0601b-e2b4-4bbe-baa0-167a044ff60a",
   "metadata": {},
   "outputs": [],
   "source": [
    "names = 'all'\n",
    "img_size = 416\n",
    "batch = 32\n",
    "epoch = 100\n",
    "model = 'yolov5s.yaml'\n",
    "\n",
    "cmd = f\"python train.py --img {img_size} --batch {batch} --epochs {epoch} --data ../data/yolo_{names}/data_all_to_normal.yaml --cfg ./models/custom_{model} --weights {model.split('.')[0]}.pt --name {names}_project_yolov5_{img_size}_{batch}_{epoch}_{model.split('.')[0]} --cache\"\n",
    "print(cmd)\n",
    "os.system(cmd)"
   ]
  },
  {
   "cell_type": "markdown",
   "id": "add27fbf-e2aa-4703-8f60-51bb50aecd0c",
   "metadata": {},
   "source": [
    "### Validation on all Cases\n",
    "#### Paper Section: 4.2 Validation Strategy\n",
    "This section carries out validation to select the optimal confidence threshold."
   ]
  },
  {
   "cell_type": "code",
   "execution_count": null,
   "id": "a5f44df9-bf65-4a0b-9236-3f31dcbc25a8",
   "metadata": {},
   "outputs": [],
   "source": [
    "import subprocess\n",
    "import re\n",
    "\n",
    "weight_path = f\"runs/train/{names}_project_yolov5_{img_size}_{batch}_{epoch}_{model.split('.')[0]}\"\n",
    "conf_values = [0.25, 0.3, 0.4, 0.5, 0.6, 0.7, 0.8]\n",
    "\n",
    "best_conf = 0\n",
    "best_map = 0\n",
    "\n",
    "for conf in conf_values:\n",
    "    cmd = f\"python val.py --data ../data/yolo_{names}/data_all_to_normal.yaml --img {img_size} --weight {weight_path}/weights/best.pt --conf {conf} --half\"\n",
    "    result = subprocess.run(cmd, shell=True, text=True, stdout=subprocess.PIPE, stderr=subprocess.STDOUT).stdout\n",
    "    \n",
    "    print(\"===============================================================================\")\n",
    "    print(\"confidence score :\", conf)\n",
    "    match = re.search(r\"all\\s+\\d+\\s+\\d+\\s+\\d+\\.\\d+\\s+\\d+\\.\\d+\\s+(\\d+\\.\\d+)\\s+(\\d+\\.\\d+)\", result)\n",
    "    if match:\n",
    "        mAP_value = float(match.group(1))\n",
    "        sixth_value = float(match.group(2))\n",
    "        print(f\"For conf: {conf}, mAP50: {mAP_value}, mAP50-95: {sixth_value}\")\n",
    "    else:\n",
    "        print(f\"Failed to extract mAP and 6th value for conf: {conf}\")\n",
    "        continue\n",
    "    print(\"===========================================================================================\")\n",
    "\n",
    "    if mAP_value > best_map:\n",
    "        best_map = mAP_value\n",
    "        best_conf = conf\n",
    "\n",
    "print(f\"Best --conf value: {best_conf} with mAP: {best_map}\")"
   ]
  },
  {
   "cell_type": "markdown",
   "id": "fc121009-5271-498d-aaa7-7384b23799bf",
   "metadata": {},
   "source": [
    "### Testing - Normal Cases\n",
    "#### Paper Section: 4.3 Testing Procedure\n",
    "This section performs testing on the Normal dataset."
   ]
  },
  {
   "cell_type": "code",
   "execution_count": null,
   "id": "ea09023b-1f9b-4748-9ec3-6c2f4a078397",
   "metadata": {},
   "outputs": [],
   "source": [
    "conf_values = [0.25, 0.3, 0.4, 0.5, 0.6, 0.7, 0.8]\n",
    "\n",
    "best_conf = 0\n",
    "best_map = 0\n",
    "\n",
    "for conf in conf_values:\n",
    "    cmd = f\"python val.py --task test --data ../data/yolo_{names}/data_all_to_normal.yaml --img {img_size} --weight {weight_path}/weights/best.pt --conf {conf} --half\"\n",
    "    result = subprocess.run(cmd, shell=True, text=True, stdout=subprocess.PIPE, stderr=subprocess.STDOUT).stdout\n",
    "    print(result)\n",
    "    \n",
    "    print(\"===============================================================================\")\n",
    "    print(\"confidence score :\", conf)\n",
    "    match = re.search(r\"all\\s+\\d+\\s+\\d+\\s+\\d+\\.\\d+\\s+\\d+\\.\\d+\\s+(\\d+\\.\\d+)\\s+(\\d+\\.\\d+)\", result)\n",
    "    if match:\n",
    "        mAP_value = float(match.group(1))\n",
    "        sixth_value = float(match.group(2))\n",
    "        print(f\"For conf: {conf}, mAP50: {mAP_value}, mAP50-95: {sixth_value}\")\n",
    "    else:\n",
    "        print(f\"Failed to extract mAP and 6th value for conf: {conf}\")\n",
    "        continue\n",
    "    print(\"===========================================================================================\")\n",
    "\n",
    "    if mAP_value > best_map:\n",
    "        best_map = mAP_value\n",
    "        best_conf = conf\n",
    "\n",
    "print(f\"Best --conf value: {best_conf} with mAP: {best_map}\")"
   ]
  },
  {
   "cell_type": "markdown",
   "id": "439a8bab-f811-49c6-ade7-3ec5d09c87a9",
   "metadata": {},
   "source": [
    "### Image Extraction - Normal Cases\n",
    "#### Paper Section: 4.4 Result Interpretation\n",
    "This section extracts images based on the final confidence threshold obtained from the validation."
   ]
  },
  {
   "cell_type": "code",
   "execution_count": null,
   "id": "3a6eec80-912b-4030-b890-0fea14dfd0cb",
   "metadata": {},
   "outputs": [],
   "source": [
    "final_conf = 0.25 # Best confidence\n",
    "cmd = f\"python detect.py --conf {final_conf} --weights {weight_path}/weights/best.pt --img {img_size} --source ../data/yolo_normal/test/images --save-txt --save-conf --project ./output --name={names}_to_normal_test_result_{img_size}_{batch}_{epoch}_{model.split('.')[0]} --exist-ok\"\n",
    "os.system(cmd)"
   ]
  },
  {
   "cell_type": "markdown",
   "id": "90886e67-f17f-4a22-8fc0-a6e713b82531",
   "metadata": {},
   "source": [
    "### Testing - Hard Cases\n",
    "#### Paper Section: 4.3 Testing Procedure (continued)\n",
    "This section performs testing on the hard dataset."
   ]
  },
  {
   "cell_type": "code",
   "execution_count": null,
   "id": "29678594-4bfe-4640-ac55-1d75933f8c7c",
   "metadata": {},
   "outputs": [],
   "source": [
    "conf_values = [0.25, 0.3, 0.4, 0.5, 0.6, 0.7, 0.8]\n",
    "\n",
    "best_conf = 0\n",
    "best_map = 0\n",
    "\n",
    "for conf in conf_values:\n",
    "    cmd = f\"python val.py --task test --data ../data/yolo_{names}/data_all_to_hard.yaml --img {img_size} --weight {weight_path}/weights/best.pt --conf {conf} --half\"\n",
    "    result = subprocess.run(cmd, shell=True, text=True, stdout=subprocess.PIPE, stderr=subprocess.STDOUT).stdout\n",
    "    print(result)\n",
    "    \n",
    "    print(\"===============================================================================\")\n",
    "    print(\"confidence score :\", conf)\n",
    "    match = re.search(r\"all\\s+\\d+\\s+\\d+\\s+\\d+\\.\\d+\\s+\\d+\\.\\d+\\s+(\\d+\\.\\d+)\\s+(\\d+\\.\\d+)\", result)\n",
    "    if match:\n",
    "        mAP_value = float(match.group(1))\n",
    "        sixth_value = float(match.group(2))\n",
    "        print(f\"For conf: {conf}, mAP50: {mAP_value}, mAP50-95: {sixth_value}\")\n",
    "    else:\n",
    "        print(f\"Failed to extract mAP and 6th value for conf: {conf}\")\n",
    "        continue\n",
    "    print(\"===========================================================================================\")\n",
    "\n",
    "    if mAP_value > best_map:\n",
    "        best_map = mAP_value\n",
    "        best_conf = conf\n",
    "\n",
    "print(f\"Best --conf value: {best_conf} with mAP: {best_map}\")"
   ]
  },
  {
   "cell_type": "markdown",
   "id": "91d73484-d279-4590-86f4-0bbbf5404c03",
   "metadata": {},
   "source": [
    "### Image Extraction - Hard Cases\n",
    "#### Paper Section: 4.4 Result Interpretation (continued)\n",
    "This section extracts images based on the final confidence threshold obtained from the validation."
   ]
  },
  {
   "cell_type": "code",
   "execution_count": null,
   "id": "8b5e7c43-1657-496a-a76b-f28f2810524a",
   "metadata": {},
   "outputs": [],
   "source": [
    "final_conf = 0.25  # Best confidence\n",
    "cmd = f\"python detect.py --conf {final_conf} --weights {weight_path}/weights/best.pt --img {img_size} --source ../data/yolo_hard/test/images --save-txt --save-conf --project ./output --name={names}_to_hard_test_result_{img_size}_{batch}_{epoch}_{model.split('.')[0]} --exist-ok\"\n",
    "os.system(cmd)"
   ]
  }
 ],
 "metadata": {
  "kernelspec": {
   "display_name": "egha-yolov5",
   "language": "python",
   "name": "egha-yolov5"
  },
  "language_info": {
   "codemirror_mode": {
    "name": "ipython",
    "version": 3
   },
   "file_extension": ".py",
   "mimetype": "text/x-python",
   "name": "python",
   "nbconvert_exporter": "python",
   "pygments_lexer": "ipython3",
   "version": "3.8.13"
  }
 },
 "nbformat": 4,
 "nbformat_minor": 5
}
